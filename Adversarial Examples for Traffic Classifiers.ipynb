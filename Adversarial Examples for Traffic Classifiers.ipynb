{
 "cells": [
  {
   "cell_type": "markdown",
   "metadata": {},
   "source": [
    "# Load Data\n",
    "\n",
    "- Use model trained by V2Ray server in AWS to classify data from V2Ray server in GCE."
   ]
  },
  {
   "cell_type": "code",
   "execution_count": 1,
   "metadata": {},
   "outputs": [],
   "source": [
    "# v2ray traffic tag\n",
    "V2RAY_HOST_TAG =  # For privacy concern, please provide \"Your-V2Ray-Server-IP-and-Port\"\n",
    "# modified packet data from Google Compute Engine\n",
    "DATA_ROOT = '/src/data/tcpsorter/mod-tcpsorter.gce'"
   ]
  },
  {
   "cell_type": "code",
   "execution_count": 2,
   "metadata": {},
   "outputs": [],
   "source": [
    "import numpy as np\n",
    "import math\n",
    "from pathlib import Path\n",
    "from tensorflow.keras.utils import Sequence\n",
    "\n",
    "# packet data size\n",
    "FIXED_PACKET_SIZE = 1500\n",
    "NUM_OF_PACKETS_PER_FILE = 16\n",
    "# rescale factor for packet data byte\n",
    "RESCALE_FACTOR = np.float32(1./255)\n",
    "# training data vs validation data\n",
    "TRAINING_DATA_PERCENTAGE = 0.8\n",
    "# modified packet file extension\n",
    "PACKET_FILE_EXT = '*.bin'\n",
    "\n",
    "\n",
    "def rglob(data_root, file_ext):\n",
    "    files = list()\n",
    "    for filePath in Path(data_root).rglob(file_ext):\n",
    "        files.append(str(filePath))\n",
    "    return files\n",
    "\n",
    "\n",
    "def binary_classification(packet_path, match_string=V2RAY_HOST_TAG):\n",
    "    \"\"\"Binary network traffic classification function\n",
    "\n",
    "    :param packet_path: file path to packet\n",
    "    :param match_string:\n",
    "    :return: 1, if it is v2ray traffice. 0, otherwise.\n",
    "    \"\"\"\n",
    "    if packet_path.find(match_string) != -1:\n",
    "        return 1\n",
    "    else:\n",
    "        return 0\n",
    "\n",
    "\n",
    "def generate_v2ray_packet_path_list(data_root=DATA_ROOT, is_v2ray=True):\n",
    "    file_list = rglob(data_root, PACKET_FILE_EXT)\n",
    "    if is_v2ray:\n",
    "        bool_value_class = 1\n",
    "        string_format = 'Total v2ray traffic %d'\n",
    "    else:\n",
    "        bool_value_class = 0\n",
    "        string_format = 'Total non v2ray traffic %d'\n",
    "    file_cat_list = [file_path for file_path in file_list if binary_classification(file_path) == bool_value_class]\n",
    "    file_cat_list.sort()\n",
    "    print(string_format % len(file_cat_list))\n",
    "    return file_cat_list\n",
    "\n",
    "\n",
    "def generate_train_validation_packet_path_list(data_root=DATA_ROOT, training_pct=TRAINING_DATA_PERCENTAGE, eqaul_size=True):\n",
    "    file_list = rglob(data_root, PACKET_FILE_EXT)\n",
    "    v2ray_file_list = [file_path for file_path in file_list if binary_classification(file_path) == 1]\n",
    "    non_v2ray_file_list = [file_path for file_path in file_list if binary_classification(file_path) == 0]\n",
    "    v2ray_file_list.sort()\n",
    "    non_v2ray_file_list.sort()\n",
    "\n",
    "    if eqaul_size:\n",
    "        cut_off_count = min(len(v2ray_file_list), len(non_v2ray_file_list))\n",
    "        v2ray_file_size = cut_off_count\n",
    "        non_v2ray_file_size = cut_off_count\n",
    "    else:\n",
    "        v2ray_file_size = len(v2ray_file_list)\n",
    "        non_v2ray_file_size = len(non_v2ray_file_list)\n",
    "\n",
    "    v2ray_indexes = np.arange(len(v2ray_file_list))\n",
    "    np.random.shuffle(v2ray_indexes)\n",
    "    non_v2ray_indexes = np.arange(len(non_v2ray_file_list))\n",
    "    np.random.shuffle(non_v2ray_indexes)\n",
    "\n",
    "    training_file_list = [v2ray_file_list[index]\n",
    "                          for index in v2ray_indexes[:math.ceil(v2ray_file_size * training_pct)]] + \\\n",
    "                         [non_v2ray_file_list[index]\n",
    "                          for index in non_v2ray_indexes[:math.ceil(non_v2ray_file_size * training_pct)]]\n",
    "\n",
    "    validation_file_list = [v2ray_file_list[index]\n",
    "                            for index in v2ray_indexes[math.ceil(v2ray_file_size * training_pct): v2ray_file_size]] + \\\n",
    "                           [non_v2ray_file_list[index]\n",
    "                            for index in non_v2ray_indexes[math.ceil(non_v2ray_file_size * training_pct): non_v2ray_file_size]]\n",
    "\n",
    "    print(\"Statistics: \")\n",
    "    print(\"Total V2ray traffic %d, Total non-V2ray traffic %d\" % (len(v2ray_file_list), len(non_v2ray_file_list)))\n",
    "    print(\"Output train traffic %d, Total validation traffic %d\" % (len(training_file_list), len(validation_file_list)))\n",
    "\n",
    "    return training_file_list, validation_file_list\n",
    "\n",
    "\n",
    "class PacketDataGenerator(Sequence):\n",
    "    \"\"\"Generates data for Keras\n",
    "    Sequence based data generator. Suitable for building data generator for training and prediction.\n",
    "    \"\"\"\n",
    "    def __init__(self, data_path_list, classification_func=binary_classification, rescale=RESCALE_FACTOR,\n",
    "                 batch_size=32, dim=(NUM_OF_PACKETS_PER_FILE, FIXED_PACKET_SIZE), shuffle=True, predict=False):\n",
    "        \"\"\"Initialization\n",
    "\n",
    "        :param data_path_list: list of data path\n",
    "        :param classification_func: binary classification function\n",
    "        :param batch_size: batch size at each iteration\n",
    "        :param dim: tuple indicating data dimension\n",
    "        :param shuffle: True to shuffle label indexes after every epoch\n",
    "        \"\"\"\n",
    "        self.data_path_list = data_path_list\n",
    "        self.classification_func = classification_func\n",
    "        self.rescale = rescale\n",
    "        self.batch_size = batch_size\n",
    "        self.dim = dim\n",
    "        self.shuffle = shuffle\n",
    "        self.predict = predict\n",
    "        self.indexes = np.arange(len(self.data_path_list))\n",
    "        self.on_epoch_end()\n",
    "\n",
    "    def __len__(self):\n",
    "        \"\"\"Denotes the number samples of batches per epoch\n",
    "\n",
    "        :return: number of batches per epoch\n",
    "        \"\"\"\n",
    "        return int(np.floor(len(self.data_path_list) / self.batch_size))\n",
    "\n",
    "    def __getitem__(self, index):\n",
    "        \"\"\"Generate one batch of data\n",
    "\n",
    "        :param index: index of the batch\n",
    "        :return: X and y when fitting. X only when predicting\n",
    "        \"\"\"\n",
    "        # Generate indexes of the batch\n",
    "        indexes = self.indexes[index * self.batch_size:(index + 1) * self.batch_size]\n",
    "\n",
    "        # Generate sub packet path list\n",
    "        data_path_sub_list = [self.data_path_list[k] for k in indexes]\n",
    "\n",
    "        # Generate data\n",
    "        x = self.standardize(self._generate_x(data_path_sub_list))\n",
    "        if self.predict:\n",
    "            return x\n",
    "        else:\n",
    "            y = self._generate_y(data_path_sub_list)\n",
    "            return x, y\n",
    "\n",
    "    def standardize(self, x):\n",
    "        if self.rescale:\n",
    "            x *= self.rescale\n",
    "        return x\n",
    "\n",
    "    def on_epoch_end(self):\n",
    "        \"\"\"Updates indexes after each epoch\n",
    "\n",
    "        \"\"\"\n",
    "        if self.shuffle:\n",
    "            np.random.shuffle(self.indexes)\n",
    "\n",
    "    def _generate_x(self, file_path_list):\n",
    "        \"\"\"Generates data containing batch_size data\n",
    "\n",
    "        :param file_path_list: file path list\n",
    "        :return: batch of data\n",
    "        \"\"\"\n",
    "        # Initialization\n",
    "        x = np.empty((self.batch_size, *self.dim), dtype=np.float32)\n",
    "\n",
    "        # Generate data\n",
    "        for i, file_path in enumerate(file_path_list):\n",
    "            # Store sample\n",
    "            x[i, ] = self._load_packet(file_path)\n",
    "\n",
    "        return x\n",
    "\n",
    "    def _generate_y(self, file_path_list):\n",
    "        \"\"\"Generates data containing batch_size\n",
    "\n",
    "        :param file_path_list: file path list\n",
    "        :return: batch if masks\n",
    "        \"\"\"\n",
    "        y = np.empty((self.batch_size, ), dtype=np.float32)\n",
    "\n",
    "        # Generate data\n",
    "        for i, file_path in enumerate(file_path_list):\n",
    "            y[i, ] = self.classification_func(file_path)\n",
    "\n",
    "        return y\n",
    "\n",
    "    def _load_packet(self, packet_path):\n",
    "        \"\"\"Load packet\n",
    "\n",
    "        :param packet_path: path to packet\n",
    "        :return: packet in numpy array\n",
    "        \"\"\"\n",
    "        packet_dt = np.dtype((np.uint8, FIXED_PACKET_SIZE))\n",
    "        packet_data = np.fromfile(packet_path, dtype=packet_dt, count=NUM_OF_PACKETS_PER_FILE)\n",
    "        return packet_data.astype(np.float32)\n"
   ]
  },
  {
   "cell_type": "markdown",
   "metadata": {},
   "source": [
    "# Load Previously Trained Model\n",
    "\n",
    "- Classify the traffic data from Google Compute Engine by model trained by the traffic data from AWS"
   ]
  },
  {
   "cell_type": "code",
   "execution_count": 3,
   "metadata": {},
   "outputs": [
    {
     "name": "stderr",
     "output_type": "stream",
     "text": [
      "Using TensorFlow backend.\n"
     ]
    }
   ],
   "source": [
    "from keras.models import load_model\n",
    "\n",
    "model = load_model('/src/data/tcpsorter/model/v2ray_classifier_equal_sample.h5')"
   ]
  },
  {
   "cell_type": "code",
   "execution_count": 4,
   "metadata": {},
   "outputs": [
    {
     "name": "stdout",
     "output_type": "stream",
     "text": [
      "Total v2ray traffic 780\n",
      "Total non v2ray traffic 3241\n"
     ]
    }
   ],
   "source": [
    "# Create tes data generator\n",
    "v2ray_packet_file_list = generate_v2ray_packet_path_list()\n",
    "non_v2ray_packet_file_list = generate_v2ray_packet_path_list(is_v2ray=False)\n",
    "v2ray_generator = PacketDataGenerator(v2ray_packet_file_list, shuffle=False)\n",
    "non_v2ray_generator = PacketDataGenerator(non_v2ray_packet_file_list, shuffle=False)"
   ]
  },
  {
   "cell_type": "markdown",
   "metadata": {},
   "source": [
    "# Generate Adversarial Examples"
   ]
  },
  {
   "cell_type": "markdown",
   "metadata": {},
   "source": [
    "## FGSM Approach\n",
    "\n",
    "- Fast Gradient Sign Method. See [paper](https://arxiv.org/abs/1412.6572)."
   ]
  },
  {
   "cell_type": "code",
   "execution_count": 5,
   "metadata": {},
   "outputs": [
    {
     "name": "stdout",
     "output_type": "stream",
     "text": [
      "keras version: 2.3.1\n",
      "tensorflow version: 2.0.0\n"
     ]
    }
   ],
   "source": [
    "import keras.backend as K\n",
    "import tensorflow as tf\n",
    "import keras\n",
    "print('keras version: %s' % keras.__version__)\n",
    "print('tensorflow version: %s' % tf.__version__)"
   ]
  },
  {
   "cell_type": "code",
   "execution_count": 6,
   "metadata": {},
   "outputs": [
    {
     "data": {
      "text/plain": [
       "24"
      ]
     },
     "execution_count": 6,
     "metadata": {},
     "output_type": "execute_result"
    }
   ],
   "source": [
    "x, y = v2ray_generator.__getitem__(0)\n",
    "len(v2ray_generator)"
   ]
  },
  {
   "cell_type": "code",
   "execution_count": 7,
   "metadata": {},
   "outputs": [],
   "source": [
    "def print_detail(var):\n",
    "    if var.shape is not None:\n",
    "        print('shape: ', var.shape)\n",
    "    if var.dtype is not None:\n",
    "        print('dtype: ', var.dtype)\n",
    "    print('type: ', type(var))\n",
    "    print('content: ', var)"
   ]
  },
  {
   "cell_type": "code",
   "execution_count": 8,
   "metadata": {},
   "outputs": [
    {
     "name": "stdout",
     "output_type": "stream",
     "text": [
      "shape:  (32, 16, 1500)\n",
      "dtype:  float32\n",
      "type:  <class 'numpy.ndarray'>\n",
      "content:  [[[0.27058825 0.         0.00392157 ... 0.         0.         0.        ]\n",
      "  [0.27058825 0.         0.01960784 ... 0.         0.         0.        ]\n",
      "  [0.27058825 0.         0.00784314 ... 0.         0.         0.        ]\n",
      "  ...\n",
      "  [0.27058825 0.         0.01960784 ... 0.         0.         0.        ]\n",
      "  [0.27058825 0.         0.01960784 ... 0.         0.         0.        ]\n",
      "  [0.27058825 0.         0.01960784 ... 0.         0.         0.        ]]\n",
      "\n",
      " [[0.27058825 0.         0.00392157 ... 0.         0.         0.        ]\n",
      "  [0.27058825 0.         0.01960784 ... 0.         0.         0.        ]\n",
      "  [0.27058825 0.         0.00784314 ... 0.         0.         0.        ]\n",
      "  ...\n",
      "  [0.27058825 0.         0.01960784 ... 0.         0.         0.        ]\n",
      "  [0.27058825 0.         0.01960784 ... 0.         0.         0.        ]\n",
      "  [0.27058825 0.         0.01960784 ... 0.         0.         0.        ]]\n",
      "\n",
      " [[0.27058825 0.         0.00392157 ... 0.         0.         0.        ]\n",
      "  [0.27058825 0.         0.01960784 ... 0.         0.         0.        ]\n",
      "  [0.27058825 0.         0.00784314 ... 0.         0.         0.        ]\n",
      "  ...\n",
      "  [0.27058825 0.         0.01960784 ... 0.         0.         0.        ]\n",
      "  [0.27058825 0.         0.01960784 ... 0.         0.         0.        ]\n",
      "  [0.27058825 0.         0.01960784 ... 0.         0.         0.        ]]\n",
      "\n",
      " ...\n",
      "\n",
      " [[0.27058825 0.         0.00392157 ... 0.         0.         0.        ]\n",
      "  [0.27058825 0.         0.01960784 ... 0.         0.         0.        ]\n",
      "  [0.27058825 0.         0.00784314 ... 0.         0.         0.        ]\n",
      "  ...\n",
      "  [0.27058825 0.         0.         ... 0.         0.         0.        ]\n",
      "  [0.27058825 0.         0.         ... 0.         0.         0.        ]\n",
      "  [0.27058825 0.         0.00784314 ... 0.         0.         0.        ]]\n",
      "\n",
      " [[0.27058825 0.         0.00392157 ... 0.         0.         0.        ]\n",
      "  [0.27058825 0.         0.01960784 ... 0.         0.         0.        ]\n",
      "  [0.27058825 0.         0.00784314 ... 0.         0.         0.        ]\n",
      "  ...\n",
      "  [0.27058825 0.         0.         ... 0.         0.         0.        ]\n",
      "  [0.27058825 0.         0.         ... 0.         0.         0.        ]\n",
      "  [0.27058825 0.         0.         ... 0.         0.         0.        ]]\n",
      "\n",
      " [[0.27058825 0.         0.00784314 ... 0.         0.         0.        ]\n",
      "  [0.27058825 0.         0.01176471 ... 0.         0.         0.        ]\n",
      "  [0.27058825 0.         0.00392157 ... 0.         0.         0.        ]\n",
      "  ...\n",
      "  [0.27058825 0.         0.01176471 ... 0.         0.         0.        ]\n",
      "  [0.27058825 0.         0.00392157 ... 0.         0.         0.        ]\n",
      "  [0.27058825 0.         0.01176471 ... 0.         0.         0.        ]]]\n",
      "shape:  (32,)\n",
      "dtype:  float32\n",
      "type:  <class 'numpy.ndarray'>\n",
      "content:  [1. 1. 1. 1. 1. 1. 1. 1. 1. 1. 1. 1. 1. 1. 1. 1. 1. 1. 1. 1. 1. 1. 1. 1.\n",
      " 1. 1. 1. 1. 1. 1. 1. 1.]\n"
     ]
    }
   ],
   "source": [
    "# 32 samples in each batch, 16 packets in each connection, 1500 byte in each packet\n",
    "print_detail(x)\n",
    "print_detail(y)"
   ]
  },
  {
   "cell_type": "markdown",
   "metadata": {},
   "source": [
    "## Pick the first input as an example"
   ]
  },
  {
   "cell_type": "code",
   "execution_count": 9,
   "metadata": {},
   "outputs": [
    {
     "name": "stdout",
     "output_type": "stream",
     "text": [
      "shape:  (1, 16, 1500)\n",
      "dtype:  float32\n",
      "type:  <class 'numpy.ndarray'>\n",
      "content:  [[[0.27058825 0.         0.00392157 ... 0.         0.         0.        ]\n",
      "  [0.27058825 0.         0.01960784 ... 0.         0.         0.        ]\n",
      "  [0.27058825 0.         0.00784314 ... 0.         0.         0.        ]\n",
      "  ...\n",
      "  [0.27058825 0.         0.01960784 ... 0.         0.         0.        ]\n",
      "  [0.27058825 0.         0.01960784 ... 0.         0.         0.        ]\n",
      "  [0.27058825 0.         0.01960784 ... 0.         0.         0.        ]]]\n"
     ]
    }
   ],
   "source": [
    "# pick first example\n",
    "x_in = x[0:1, ]\n",
    "print_detail(x_in)"
   ]
  },
  {
   "cell_type": "code",
   "execution_count": 10,
   "metadata": {},
   "outputs": [
    {
     "name": "stdout",
     "output_type": "stream",
     "text": [
      "shape:  (1, 1)\n",
      "dtype:  float32\n",
      "type:  <class 'numpy.ndarray'>\n",
      "content:  [[1.]]\n"
     ]
    }
   ],
   "source": [
    "y_pre = model.predict(x_in)\n",
    "print_detail(y_pre)"
   ]
  },
  {
   "cell_type": "markdown",
   "metadata": {},
   "source": [
    "### Ricky's Comment\n",
    "\n",
    "- The prediction from trained model is 1, which matches the true V2Ray traffic label. \n",
    "- Now we want to modify input x so that the prediction is 0. In other word, the probability of V2Ray traffic is 0."
   ]
  },
  {
   "cell_type": "code",
   "execution_count": 11,
   "metadata": {},
   "outputs": [],
   "source": [
    "# Compute adversaril sign gradient\n",
    "@tf.function\n",
    "def adversarial_sign_gradient(x, y_target, trained_model=model):\n",
    "    x = tf.cast(x, tf.float32)\n",
    "    with tf.GradientTape() as tape:\n",
    "        tape.watch(x)\n",
    "        y_pred = trained_model(x)\n",
    "        loss_value = tf.keras.losses.binary_crossentropy(y_target, y_pred)\n",
    "    \n",
    "    gradient = tape.gradient(loss_value, x)\n",
    "    signed_grad = tf.cast(tf.math.sign(gradient), dtype=tf.int32)\n",
    "    return signed_grad"
   ]
  },
  {
   "cell_type": "code",
   "execution_count": 12,
   "metadata": {},
   "outputs": [],
   "source": [
    "adv_sign = adversarial_sign_gradient(x_in, np.array([[0.]])).numpy()"
   ]
  },
  {
   "cell_type": "code",
   "execution_count": 13,
   "metadata": {},
   "outputs": [
    {
     "name": "stdout",
     "output_type": "stream",
     "text": [
      "shape:  (1, 16, 1500)\n",
      "dtype:  int32\n",
      "type:  <class 'numpy.ndarray'>\n",
      "content:  [[[-1 -1 -1 ... -1 -1 -1]\n",
      "  [-1 -1 -1 ...  1  1  1]\n",
      "  [-1 -1 -1 ... -1 -1 -1]\n",
      "  ...\n",
      "  [-1 -1 -1 ... -1  1  1]\n",
      "  [-1 -1 -1 ... -1  1 -1]\n",
      "  [ 0  0  0 ...  0  0  0]]]\n"
     ]
    }
   ],
   "source": [
    "print_detail(adv_sign)"
   ]
  },
  {
   "cell_type": "code",
   "execution_count": 14,
   "metadata": {},
   "outputs": [
    {
     "data": {
      "image/png": "[encoded data removed]",
      "text/plain": [
       "<Figure size 432x288 with 1 Axes>"
      ]
     },
     "metadata": {
      "needs_background": "light"
     },
     "output_type": "display_data"
    }
   ],
   "source": [
    "%matplotlib inline\n",
    "import matplotlib.pyplot as plt\n",
    "import matplotlib.image as mpimg\n",
    "from PIL import Image\n",
    "\n",
    "COLOR_MAP = {\n",
    "    1: [255, 0, 0], # Red\n",
    "    -1: [0, 255, 0], # Green\n",
    "    0: [0, 0, 255]} # Blue\n",
    "\n",
    "\n",
    "def convert_rgb(f_img, color_map=COLOR_MAP, border_color=(0, 0, 0), border_row_num=1, add_border=False):\n",
    "    rows = f_img.shape[0]\n",
    "    if add_border:\n",
    "        rows += 1\n",
    "    cols = f_img.shape[1]\n",
    "    c_img = np.ndarray(shape=(rows, cols, 3), dtype=np.uint8)\n",
    "    for x in range(rows):\n",
    "        if add_border and x == rows - 1:\n",
    "            for y in range(cols):\n",
    "                c_img[x, y, 0] = border_color[0]\n",
    "                c_img[x, y, 1] = border_color[1]\n",
    "                c_img[x, y, 2] = border_color[2]\n",
    "        else:\n",
    "            for y in range(cols):\n",
    "                rgb = COLOR_MAP.get(f_img[x, y])\n",
    "                c_img[x, y, 0] = rgb[0]\n",
    "                c_img[x, y, 1] = rgb[1]\n",
    "                c_img[x, y, 2] = rgb[2]\n",
    "    return c_img\n",
    "\n",
    "\n",
    "\n",
    "#plt.imshow(color_img)\n",
    "#print(np.histogram(adv_sign[0, ].flatten(), bins=4))\n",
    "#plt.hist(adv_sign[0, ].flatten(), bins='auto')\n",
    "\n",
    "def save_color_img_to_png(color_img, file_name):\n",
    "    img = Image.fromarray(color_img, 'RGB')\n",
    "    img.save(file_name)\n",
    "\n",
    "def show_png(file_name):\n",
    "    plt_img = mpimg.imread(output_file_name)\n",
    "    plt.imshow(plt_img)\n",
    "\n",
    "output_file_name = 'adv_signed_gradient.png'\n",
    "color_img = convert_rgb(adv_sign[0,])\n",
    "save_color_img_to_png(color_img, output_file_name)\n",
    "show_png(output_file_name)\n"
   ]
  },
  {
   "cell_type": "markdown",
   "metadata": {},
   "source": [
    "### Ricky's Comment\n",
    "\n",
    "- To visualize the sign gradient, we plot the graph in RGB. Red is 1, green is -1, blue is 0.\n",
    "- There is no change in the last packet i.e. the 16th packet."
   ]
  },
  {
   "cell_type": "code",
   "execution_count": 15,
   "metadata": {},
   "outputs": [
    {
     "data": {
      "text/plain": [
       "0.00392156862745098"
      ]
     },
     "execution_count": 15,
     "metadata": {},
     "output_type": "execute_result"
    }
   ],
   "source": [
    "# floating point precision in one byte\n",
    "1/255.0"
   ]
  },
  {
   "cell_type": "markdown",
   "metadata": {},
   "source": [
    "## Tensorflow version"
   ]
  },
  {
   "cell_type": "code",
   "execution_count": 16,
   "metadata": {},
   "outputs": [
    {
     "name": "stdout",
     "output_type": "stream",
     "text": [
      "i: 0, eps: 0.003922, y: 1.000000\n",
      "i: 1, eps: 0.007843, y: 1.000000\n",
      "i: 2, eps: 0.011765, y: 1.000000\n",
      "i: 3, eps: 0.015686, y: 1.000000\n",
      "i: 4, eps: 0.019608, y: 0.999998\n",
      "i: 5, eps: 0.023529, y: 0.999832\n",
      "i: 6, eps: 0.027451, y: 0.988524\n",
      "i: 7, eps: 0.031373, y: 0.560655\n",
      "i: 8, eps: 0.035294, y: 0.022499\n",
      "i: 9, eps: 0.039216, y: 0.000566\n",
      "i: 10, eps: 0.043137, y: 0.000014\n",
      "Adversarial Noise:  tf.Tensor(\n",
      "[[[-0.04313726 -0.04313726 -0.04313726 ... -0.04313726 -0.04313726\n",
      "   -0.04313726]\n",
      "  [-0.04313726 -0.04313726 -0.04313726 ...  0.04313726  0.04313726\n",
      "    0.04313726]\n",
      "  [-0.04313726 -0.04313726 -0.04313726 ... -0.04313726 -0.04313726\n",
      "   -0.04313726]\n",
      "  ...\n",
      "  [-0.04313726 -0.04313726 -0.04313726 ... -0.04313726  0.04313726\n",
      "    0.04313726]\n",
      "  [-0.04313726 -0.04313726 -0.04313726 ... -0.04313726  0.04313726\n",
      "   -0.04313726]\n",
      "  [ 0.          0.          0.         ...  0.          0.\n",
      "    0.        ]]], shape=(1, 16, 1500), dtype=float32)\n",
      "Adversarial Signed Gradient:  tf.Tensor(\n",
      "[[[-1 -1 -1 ... -1 -1 -1]\n",
      "  [-1 -1 -1 ...  1  1  1]\n",
      "  [-1 -1 -1 ... -1 -1 -1]\n",
      "  ...\n",
      "  [-1 -1 -1 ... -1  1  1]\n",
      "  [-1 -1 -1 ... -1  1 -1]\n",
      "  [ 0  0  0 ...  0  0  0]]], shape=(1, 16, 1500), dtype=int32)\n"
     ]
    }
   ],
   "source": [
    "# tf version\n",
    "def get_adversarial_noise(x, y_target, model, mu = 1e-4, debug=False):\n",
    "    x = tf.cast(x, dtype=tf.float32)\n",
    "    y_target = tf.cast(y_target, dtype=tf.float32)\n",
    "    epsilons = np.arange(1.0, 100.0) * 1/255.0\n",
    "    adv_sign_grad = adversarial_sign_gradient(x, y_target)\n",
    "    \n",
    "    for i, eps in enumerate(epsilons.tolist()):\n",
    "        adv_noise = eps * tf.cast(adv_sign_grad, dtype=tf.float32)\n",
    "        x_adv = x - adv_noise\n",
    "        #print('x_adv: ', x_adv)\n",
    "        y_pre = tf.cast(model.predict(x_adv.numpy()), dtype=tf.float32)\n",
    "        if debug:\n",
    "            print('i: %d, eps: %f, y: %f' % (i, eps, y_pre.numpy()))\n",
    "            \n",
    "        mu = tf.ones(shape=y_pre.shape, dtype=y_pre.dtype) * mu\n",
    "        if not tf.math.reduce_any(tf.math.less(mu, tf.math.abs(y_pre - y_target))):\n",
    "            return adv_noise, i + 1, adv_sign_grad\n",
    "\n",
    "# the target is 0!\n",
    "adv_noise, adv_units, adv_sign_grad = get_adversarial_noise(x_in, np.array([[0.]]), model, debug=True)\n",
    "\n",
    "print('Adversarial Noise: ', adv_noise)\n",
    "print('Adversarial Signed Gradient: ', adv_sign_grad)"
   ]
  },
  {
   "cell_type": "markdown",
   "metadata": {},
   "source": [
    "### Ricky's Comment\n",
    "\n",
    "- We need to multiple `11` (i = 10) on discrete floating point precision `0.003922` (1/255.0) to make the prediction closing to 0 (`0.00014` < `1e-4`)."
   ]
  },
  {
   "cell_type": "markdown",
   "metadata": {},
   "source": [
    "## Modify Original Data Packet\n",
    "\n",
    "- Apply adversarial signed gradient on the original packet data from rage [0, 255]\n",
    "- Set `adv_noise` with floor = 0 and ceiling = 255"
   ]
  },
  {
   "cell_type": "code",
   "execution_count": 17,
   "metadata": {},
   "outputs": [
    {
     "name": "stdout",
     "output_type": "stream",
     "text": [
      "Original x\n",
      "shape:  (1, 16, 1500)\n",
      "dtype:  float32\n",
      "type:  <class 'numpy.ndarray'>\n",
      "content:  [[[69.  0.  1. ...  0.  0.  0.]\n",
      "  [69.  0.  5. ...  0.  0.  0.]\n",
      "  [69.  0.  2. ...  0.  0.  0.]\n",
      "  ...\n",
      "  [69.  0.  5. ...  0.  0.  0.]\n",
      "  [69.  0.  5. ...  0.  0.  0.]\n",
      "  [69.  0.  5. ...  0.  0.  0.]]]\n",
      "\n",
      "\n",
      "Original y_true\n",
      "shape:  (1,)\n",
      "dtype:  float32\n",
      "type:  <class 'numpy.ndarray'>\n",
      "content:  [1.]\n"
     ]
    }
   ],
   "source": [
    "original_packet_generator = PacketDataGenerator(v2ray_packet_file_list, shuffle=False, rescale=None)\n",
    "x_org, y_org = original_packet_generator.__getitem__(0)\n",
    "\n",
    "x_org_in = x_org[0:1, ]\n",
    "y_org_true = y_org[0:1, ]\n",
    "print('Original x')\n",
    "print_detail(x_org_in)\n",
    "\n",
    "print('\\n\\nOriginal y_true')\n",
    "print_detail(y_org_true)"
   ]
  },
  {
   "cell_type": "code",
   "execution_count": 18,
   "metadata": {},
   "outputs": [
    {
     "name": "stdout",
     "output_type": "stream",
     "text": [
      "Masqueraded x: \n",
      "shape:  (1, 16, 1500)\n",
      "dtype:  float64\n",
      "type:  <class 'numpy.ndarray'>\n",
      "content:  [[[ 81.  12.  13. ...  12.  12.  12.]\n",
      "  [ 81.  12.  17. ... -12. -12. -12.]\n",
      "  [ 81.  12.  14. ...  12.  12.  12.]\n",
      "  ...\n",
      "  [ 81.  12.  17. ...  12. -12. -12.]\n",
      "  [ 81.  12.  17. ...  12. -12.  12.]\n",
      "  [ 69.   0.   5. ...   0.   0.   0.]]]\n"
     ]
    }
   ],
   "source": [
    "x_org_in_masq = x_org_in - adv_sign_grad.numpy() * 12\n",
    "print('Masqueraded x: ')\n",
    "print_detail(x_org_in_masq)"
   ]
  },
  {
   "cell_type": "code",
   "execution_count": 19,
   "metadata": {},
   "outputs": [
    {
     "name": "stdout",
     "output_type": "stream",
     "text": [
      "Non-normalized prediction:  [[3.5589628e-07]]\n",
      "Original prediction:  [[1.]]\n"
     ]
    }
   ],
   "source": [
    "print('Non-normalized prediction: ', model.predict(x_org_in_masq * RESCALE_FACTOR))\n",
    "print('Original prediction: ', model.predict(x_org_in * RESCALE_FACTOR))"
   ]
  },
  {
   "cell_type": "code",
   "execution_count": 20,
   "metadata": {},
   "outputs": [
    {
     "name": "stdout",
     "output_type": "stream",
     "text": [
      "Normalized x:\n",
      "shape:  (1, 16, 1500)\n",
      "dtype:  float64\n",
      "type:  <class 'numpy.ndarray'>\n",
      "content:  [[[81. 12. 13. ... 12. 12. 12.]\n",
      "  [81. 12. 17. ...  0.  0.  0.]\n",
      "  [81. 12. 14. ... 12. 12. 12.]\n",
      "  ...\n",
      "  [81. 12. 17. ... 12.  0.  0.]\n",
      "  [81. 12. 17. ... 12.  0. 12.]\n",
      "  [69.  0.  5. ...  0.  0.  0.]]]\n"
     ]
    }
   ],
   "source": [
    "# min(max(x, 0), 255)\n",
    "np_floor = np.zeros(shape=x_org_in_masq.shape, dtype=x_org_in_masq.dtype)\n",
    "np_cap = np.ones(shape=x_org_in_masq.shape, dtype=x_org_in_masq.dtype) * 255\n",
    "\n",
    "x_org_noramlized = np.minimum(np.maximum(x_org_in_masq, np_floor), np_cap)\n",
    "print('Normalized x:')\n",
    "print_detail(x_org_noramlized)"
   ]
  },
  {
   "cell_type": "code",
   "execution_count": 21,
   "metadata": {},
   "outputs": [
    {
     "name": "stdout",
     "output_type": "stream",
     "text": [
      "Updated prediction:  [[0.00043797]]\n",
      "Original prediction:  [[1.]]\n"
     ]
    }
   ],
   "source": [
    "print('Updated prediction: ', model.predict(x_org_noramlized * RESCALE_FACTOR))\n",
    "print('Original prediction: ', model.predict(x_org_in * RESCALE_FACTOR))"
   ]
  },
  {
   "cell_type": "markdown",
   "metadata": {},
   "source": [
    "## How about the whole batch?"
   ]
  },
  {
   "cell_type": "code",
   "execution_count": 22,
   "metadata": {},
   "outputs": [],
   "source": [
    "# batch version\n",
    "x_tensor = tf.convert_to_tensor(x, dtype=tf.float32)\n",
    "y_target_tensor = tf.zeros((32, 1), dtype=tf.float32)\n",
    "adv_sign_grad_tensor= adversarial_sign_gradient(x_tensor, y_target_tensor)"
   ]
  },
  {
   "cell_type": "code",
   "execution_count": 23,
   "metadata": {},
   "outputs": [
    {
     "name": "stdout",
     "output_type": "stream",
     "text": [
      "x_tensor.shape:  (32, 16, 1500)\n",
      "y_target_tensor.shape:  (32, 1)\n",
      "adv_sign_grad_tensor.shape:  (32, 16, 1500)\n"
     ]
    }
   ],
   "source": [
    "print('x_tensor.shape: ', x_tensor.shape)\n",
    "print('y_target_tensor.shape: ', y_target_tensor.shape)\n",
    "print('adv_sign_grad_tensor.shape: ', adv_sign_grad_tensor.shape)"
   ]
  },
  {
   "cell_type": "code",
   "execution_count": 24,
   "metadata": {},
   "outputs": [
    {
     "name": "stdout",
     "output_type": "stream",
     "text": [
      "adv_sign_grad_ndarray.shape:  (32, 16, 1500)\n"
     ]
    }
   ],
   "source": [
    "adv_sign_grad_ndarray = adv_sign_grad_tensor.numpy()\n",
    "print('adv_sign_grad_ndarray.shape: ', adv_sign_grad_ndarray.shape)\n",
    "batch = adv_sign_grad_ndarray.shape[0]\n",
    "\n",
    "c_images = list()\n",
    "for b in range(batch):\n",
    "    f_img = adv_sign_grad_ndarray[b, ]\n",
    "    c_img = convert_rgb(f_img, add_border=True)\n",
    "    c_images.append(c_img)"
   ]
  },
  {
   "cell_type": "code",
   "execution_count": 25,
   "metadata": {},
   "outputs": [],
   "source": [
    "overall_image = np.concatenate(c_images)"
   ]
  },
  {
   "cell_type": "code",
   "execution_count": 26,
   "metadata": {},
   "outputs": [
    {
     "name": "stdout",
     "output_type": "stream",
     "text": [
      "(544, 1500, 3)\n"
     ]
    }
   ],
   "source": [
    "print(overall_image.shape)"
   ]
  },
  {
   "cell_type": "code",
   "execution_count": 27,
   "metadata": {},
   "outputs": [
    {
     "data": {
      "image/png": "[encoded data removed]",
      "text/plain": [
       "<Figure size 432x288 with 1 Axes>"
      ]
     },
     "metadata": {
      "needs_background": "light"
     },
     "output_type": "display_data"
    }
   ],
   "source": [
    "output_file_name = 'adv_signed_gradient_overall.png'\n",
    "\n",
    "save_color_img_to_png(overall_image, output_file_name)\n",
    "show_png(output_file_name)"
   ]
  },
  {
   "cell_type": "code",
   "execution_count": 28,
   "metadata": {},
   "outputs": [
    {
     "name": "stdout",
     "output_type": "stream",
     "text": [
      "tf.Tensor(\n",
      "[[1.       ]\n",
      " [1.       ]\n",
      " [1.       ]\n",
      " [1.       ]\n",
      " [1.       ]\n",
      " [1.       ]\n",
      " [1.       ]\n",
      " [1.       ]\n",
      " [1.       ]\n",
      " [1.       ]\n",
      " [1.       ]\n",
      " [1.       ]\n",
      " [1.       ]\n",
      " [1.       ]\n",
      " [1.       ]\n",
      " [1.       ]\n",
      " [1.       ]\n",
      " [1.       ]\n",
      " [1.       ]\n",
      " [1.       ]\n",
      " [1.       ]\n",
      " [0.9987436]\n",
      " [1.       ]\n",
      " [1.       ]\n",
      " [1.       ]\n",
      " [1.       ]\n",
      " [1.       ]\n",
      " [1.       ]\n",
      " [1.       ]\n",
      " [1.       ]\n",
      " [1.       ]\n",
      " [1.       ]], shape=(32, 1), dtype=float32)\n"
     ]
    }
   ],
   "source": [
    "y_pred_tensor = tf.convert_to_tensor(model.predict(x_tensor.numpy()), dtype=tf.float32)\n",
    "print(y_pred_tensor)"
   ]
  },
  {
   "cell_type": "code",
   "execution_count": 29,
   "metadata": {},
   "outputs": [
    {
     "name": "stdout",
     "output_type": "stream",
     "text": [
      "[[3.5762787e-07]\n",
      " [0.0000000e+00]\n",
      " [0.0000000e+00]\n",
      " [0.0000000e+00]\n",
      " [0.0000000e+00]\n",
      " [0.0000000e+00]\n",
      " [0.0000000e+00]\n",
      " [0.0000000e+00]\n",
      " [0.0000000e+00]\n",
      " [0.0000000e+00]\n",
      " [8.9406967e-08]\n",
      " [0.0000000e+00]\n",
      " [0.0000000e+00]\n",
      " [0.0000000e+00]\n",
      " [2.7120113e-06]\n",
      " [0.0000000e+00]\n",
      " [8.1419945e-05]\n",
      " [0.0000000e+00]\n",
      " [1.1920929e-07]\n",
      " [0.0000000e+00]\n",
      " [3.5226345e-05]\n",
      " [0.0000000e+00]\n",
      " [5.9235096e-04]\n",
      " [1.8671155e-04]\n",
      " [2.2042274e-02]\n",
      " [0.0000000e+00]\n",
      " [0.0000000e+00]\n",
      " [0.0000000e+00]\n",
      " [9.2387199e-07]\n",
      " [0.0000000e+00]\n",
      " [0.0000000e+00]\n",
      " [0.0000000e+00]]\n"
     ]
    }
   ],
   "source": [
    "adv_noise_units = tf.constant(1/255.0 * 12.0, dtype=tf.float32)\n",
    "x_adv_tensor = x_tensor - adv_noise_units * tf.cast(adv_sign_grad_tensor, dtype=tf.float32)\n",
    "y_adv_pred_tensor = model.predict(x_adv_tensor.numpy())\n",
    "print(y_adv_pred_tensor)"
   ]
  },
  {
   "cell_type": "markdown",
   "metadata": {},
   "source": [
    "### Ricky's Comment\n",
    "\n",
    "- To visualize the sign gradient of 32 samples, we plot the graph in RGB. Red is 1, green is -1, blue is 0, black is a boderline to separate sample.\n",
    "- There is no change in the last packet i.e. the 16th packet.\n",
    "- From my eyeballs, there is a common pattern among 32 samples. Would it be possible to find a universal adversarial noise to apply to all input X?"
   ]
  },
  {
   "cell_type": "markdown",
   "metadata": {},
   "source": [
    "## Deepfool Approach\n",
    "\n",
    "- Deepfool. See [paper](https://arxiv.org/abs/1511.04599)"
   ]
  },
  {
   "cell_type": "code",
   "execution_count": 30,
   "metadata": {},
   "outputs": [],
   "source": [
    "# model(x) -> y , where y in [0, 1]\n",
    "# f(model(x)) = 2 * model(x) - 1, f(x) in [-1, 1]\n",
    "def map_func(x):\n",
    "    return tf.constant(2.0, dtype=tf.float32) * x - tf.constant(1.0, dtype=tf.float32)\n",
    "\n",
    "@tf.function\n",
    "def model_gradient(x_in, trained_model=model):\n",
    "    x = tf.cast(x_in, tf.float32)\n",
    "    with tf.GradientTape() as tape:\n",
    "        tape.watch(x)\n",
    "        y_pred = trained_model(x)\n",
    "        y_map = map_func(y_pred)\n",
    "    gradient = tape.gradient(y_map, x)\n",
    "    return gradient"
   ]
  },
  {
   "cell_type": "code",
   "execution_count": 31,
   "metadata": {},
   "outputs": [
    {
     "name": "stdout",
     "output_type": "stream",
     "text": [
      "x_tensor:  tf.Tensor(\n",
      "[[[0.27058825 0.         0.00392157 ... 0.         0.         0.        ]\n",
      "  [0.27058825 0.         0.01960784 ... 0.         0.         0.        ]\n",
      "  [0.27058825 0.         0.00784314 ... 0.         0.         0.        ]\n",
      "  ...\n",
      "  [0.27058825 0.         0.01960784 ... 0.         0.         0.        ]\n",
      "  [0.27058825 0.         0.01960784 ... 0.         0.         0.        ]\n",
      "  [0.27058825 0.         0.01960784 ... 0.         0.         0.        ]]\n",
      "\n",
      " [[0.27058825 0.         0.00392157 ... 0.         0.         0.        ]\n",
      "  [0.27058825 0.         0.01960784 ... 0.         0.         0.        ]\n",
      "  [0.27058825 0.         0.00784314 ... 0.         0.         0.        ]\n",
      "  ...\n",
      "  [0.27058825 0.         0.01960784 ... 0.         0.         0.        ]\n",
      "  [0.27058825 0.         0.01960784 ... 0.         0.         0.        ]\n",
      "  [0.27058825 0.         0.01960784 ... 0.         0.         0.        ]]\n",
      "\n",
      " [[0.27058825 0.         0.00392157 ... 0.         0.         0.        ]\n",
      "  [0.27058825 0.         0.01960784 ... 0.         0.         0.        ]\n",
      "  [0.27058825 0.         0.00784314 ... 0.         0.         0.        ]\n",
      "  ...\n",
      "  [0.27058825 0.         0.01960784 ... 0.         0.         0.        ]\n",
      "  [0.27058825 0.         0.01960784 ... 0.         0.         0.        ]\n",
      "  [0.27058825 0.         0.01960784 ... 0.         0.         0.        ]]\n",
      "\n",
      " ...\n",
      "\n",
      " [[0.27058825 0.         0.00392157 ... 0.         0.         0.        ]\n",
      "  [0.27058825 0.         0.01960784 ... 0.         0.         0.        ]\n",
      "  [0.27058825 0.         0.00784314 ... 0.         0.         0.        ]\n",
      "  ...\n",
      "  [0.27058825 0.         0.         ... 0.         0.         0.        ]\n",
      "  [0.27058825 0.         0.         ... 0.         0.         0.        ]\n",
      "  [0.27058825 0.         0.00784314 ... 0.         0.         0.        ]]\n",
      "\n",
      " [[0.27058825 0.         0.00392157 ... 0.         0.         0.        ]\n",
      "  [0.27058825 0.         0.01960784 ... 0.         0.         0.        ]\n",
      "  [0.27058825 0.         0.00784314 ... 0.         0.         0.        ]\n",
      "  ...\n",
      "  [0.27058825 0.         0.         ... 0.         0.         0.        ]\n",
      "  [0.27058825 0.         0.         ... 0.         0.         0.        ]\n",
      "  [0.27058825 0.         0.         ... 0.         0.         0.        ]]\n",
      "\n",
      " [[0.27058825 0.         0.00784314 ... 0.         0.         0.        ]\n",
      "  [0.27058825 0.         0.01176471 ... 0.         0.         0.        ]\n",
      "  [0.27058825 0.         0.00392157 ... 0.         0.         0.        ]\n",
      "  ...\n",
      "  [0.27058825 0.         0.01176471 ... 0.         0.         0.        ]\n",
      "  [0.27058825 0.         0.00392157 ... 0.         0.         0.        ]\n",
      "  [0.27058825 0.         0.01176471 ... 0.         0.         0.        ]]], shape=(32, 16, 1500), dtype=float32)\n",
      "gradient_tensor:  tf.Tensor(\n",
      "[[[0. 0. 0. ... 0. 0. 0.]\n",
      "  [0. 0. 0. ... 0. 0. 0.]\n",
      "  [0. 0. 0. ... 0. 0. 0.]\n",
      "  ...\n",
      "  [0. 0. 0. ... 0. 0. 0.]\n",
      "  [0. 0. 0. ... 0. 0. 0.]\n",
      "  [0. 0. 0. ... 0. 0. 0.]]\n",
      "\n",
      " [[0. 0. 0. ... 0. 0. 0.]\n",
      "  [0. 0. 0. ... 0. 0. 0.]\n",
      "  [0. 0. 0. ... 0. 0. 0.]\n",
      "  ...\n",
      "  [0. 0. 0. ... 0. 0. 0.]\n",
      "  [0. 0. 0. ... 0. 0. 0.]\n",
      "  [0. 0. 0. ... 0. 0. 0.]]\n",
      "\n",
      " [[0. 0. 0. ... 0. 0. 0.]\n",
      "  [0. 0. 0. ... 0. 0. 0.]\n",
      "  [0. 0. 0. ... 0. 0. 0.]\n",
      "  ...\n",
      "  [0. 0. 0. ... 0. 0. 0.]\n",
      "  [0. 0. 0. ... 0. 0. 0.]\n",
      "  [0. 0. 0. ... 0. 0. 0.]]\n",
      "\n",
      " ...\n",
      "\n",
      " [[0. 0. 0. ... 0. 0. 0.]\n",
      "  [0. 0. 0. ... 0. 0. 0.]\n",
      "  [0. 0. 0. ... 0. 0. 0.]\n",
      "  ...\n",
      "  [0. 0. 0. ... 0. 0. 0.]\n",
      "  [0. 0. 0. ... 0. 0. 0.]\n",
      "  [0. 0. 0. ... 0. 0. 0.]]\n",
      "\n",
      " [[0. 0. 0. ... 0. 0. 0.]\n",
      "  [0. 0. 0. ... 0. 0. 0.]\n",
      "  [0. 0. 0. ... 0. 0. 0.]\n",
      "  ...\n",
      "  [0. 0. 0. ... 0. 0. 0.]\n",
      "  [0. 0. 0. ... 0. 0. 0.]\n",
      "  [0. 0. 0. ... 0. 0. 0.]]\n",
      "\n",
      " [[0. 0. 0. ... 0. 0. 0.]\n",
      "  [0. 0. 0. ... 0. 0. 0.]\n",
      "  [0. 0. 0. ... 0. 0. 0.]\n",
      "  ...\n",
      "  [0. 0. 0. ... 0. 0. 0.]\n",
      "  [0. 0. 0. ... 0. 0. 0.]\n",
      "  [0. 0. 0. ... 0. 0. 0.]]], shape=(32, 16, 1500), dtype=float32)\n"
     ]
    }
   ],
   "source": [
    "# batch version\n",
    "x_tensor = tf.convert_to_tensor(x, dtype=tf.float32)\n",
    "gradient_tensor = model_gradient(x_tensor)\n",
    "print('x_tensor: ', x_tensor)\n",
    "print('gradient_tensor: ', gradient_tensor)"
   ]
  },
  {
   "cell_type": "code",
   "execution_count": 32,
   "metadata": {},
   "outputs": [
    {
     "name": "stdout",
     "output_type": "stream",
     "text": [
      "[[1.       ]\n",
      " [1.       ]\n",
      " [1.       ]\n",
      " [1.       ]\n",
      " [1.       ]\n",
      " [1.       ]\n",
      " [1.       ]\n",
      " [1.       ]\n",
      " [1.       ]\n",
      " [1.       ]\n",
      " [1.       ]\n",
      " [1.       ]\n",
      " [1.       ]\n",
      " [1.       ]\n",
      " [1.       ]\n",
      " [1.       ]\n",
      " [1.       ]\n",
      " [1.       ]\n",
      " [1.       ]\n",
      " [1.       ]\n",
      " [1.       ]\n",
      " [0.9987436]\n",
      " [1.       ]\n",
      " [1.       ]\n",
      " [1.       ]\n",
      " [1.       ]\n",
      " [1.       ]\n",
      " [1.       ]\n",
      " [1.       ]\n",
      " [1.       ]\n",
      " [1.       ]\n",
      " [1.       ]]\n"
     ]
    }
   ],
   "source": [
    "print(model.predict(x_tensor.numpy()))"
   ]
  },
  {
   "cell_type": "code",
   "execution_count": 33,
   "metadata": {},
   "outputs": [
    {
     "name": "stdout",
     "output_type": "stream",
     "text": [
      "decimal: 20: False\n",
      "decimal: 19: False\n",
      "decimal: 18: False\n",
      "decimal: 17: False\n",
      "decimal: 16: False\n",
      "decimal: 15: False\n",
      "decimal: 14: False\n",
      "decimal: 13: False\n",
      "decimal: 12: False\n",
      "decimal: 11: False\n",
      "decimal: 10: False\n",
      "decimal: 9: False\n",
      "decimal: 8: False\n",
      "decimal: 7: False\n",
      "decimal: 6: False\n",
      "decimal: 5: False\n",
      "decimal: 4: False\n",
      "decimal: 3: False\n",
      "decimal: 2: True\n",
      "decimal: 1: True\n"
     ]
    }
   ],
   "source": [
    "def almost_equals(a, b, decimal=6):\n",
    "    try:\n",
    "        np.testing.assert_almost_equal(a, b, decimal=decimal)\n",
    "    except AssertionError:\n",
    "        return False\n",
    "    return True\n",
    "\n",
    "def detect_zeros(input_tensor, num_decimal=20):\n",
    "    # comparing to zeros:\n",
    "    zeros_like = np.zeros_like(input_tensor.numpy())  \n",
    "    for decimal in range(num_decimal, 0, -1):\n",
    "        print('decimal: {0}: {1}'.format(decimal,\n",
    "                                         almost_equals(zeros_like,\n",
    "                                                       input_tensor.numpy(),\n",
    "                                                       decimal=decimal)))\n",
    "detect_zeros(gradient_tensor, 20)"
   ]
  },
  {
   "cell_type": "markdown",
   "metadata": {},
   "source": [
    "### Ricky's Comment\n",
    "\n",
    "- The forward gradient looks like a zero tensor. It is caused by the vanishing gradient in the sigmoid activation function of the output layer. The sigmoid function satuarates at both ends.\n",
    "- There is numerical difficulty in DeepFool and JASM approach."
   ]
  },
  {
   "cell_type": "code",
   "execution_count": null,
   "metadata": {},
   "outputs": [],
   "source": []
  }
 ],
 "metadata": {
  "kernelspec": {
   "display_name": "Python 3",
   "language": "python",
   "name": "python3"
  },
  "language_info": {
   "codemirror_mode": {
    "name": "ipython",
    "version": 3
   },
   "file_extension": ".py",
   "mimetype": "text/x-python",
   "name": "python",
   "nbconvert_exporter": "python",
   "pygments_lexer": "ipython3",
   "version": "3.6.9"
  }
 },
 "nbformat": 4,
 "nbformat_minor": 2
}
