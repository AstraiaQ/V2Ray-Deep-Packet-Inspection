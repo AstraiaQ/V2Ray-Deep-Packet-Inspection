{
 "cells": [
  {
   "cell_type": "markdown",
   "metadata": {},
   "source": [
    "# Step 1: Collect Packets Data\n",
    "\n",
    "- Follow build instruction in [PacketSorter repository](https://github.com/rickyzhang82/PacketSorter).\n",
    "- Run **PacketSorter** application in your home router for a month.\n",
    "- Deploy V2Ray server in AWS Lightsail.\n",
    "- Deploy V2Ray client through vmess protcol at home.\n",
    "- Use V2Ray client to generate V2Ray traffic at home."
   ]
  },
  {
   "cell_type": "markdown",
   "metadata": {},
   "source": [
    "# Step 2: Offline Data Cleaning\n",
    "\n",
    "- Follow build instruction in [PcapProcessor repository](https://github.com/rickyzhang82/PcapProcessor).\n",
    "- Retain pcap files which are not in missing caputing log from **PacketSorter**.\n",
    "- Retain pcap files which contains extactly **16** packets.\n",
    "- Drop the link layer header in each packet, i.e. the Ethernet frame header.\n",
    "- Mask source's and destination's IP address and port with zero value. Recompute the checksum in TCP and IP header cheksum.\n",
    "- Truncate or pad zero to each packet to **1500** bytes."
   ]
  },
  {
   "cell_type": "markdown",
   "metadata": {},
   "source": [
    "# Step 3: Load Modified Packets\n",
    "\n",
    "## Data Exploration"
   ]
  },
  {
   "cell_type": "code",
   "execution_count": 1,
   "metadata": {},
   "outputs": [],
   "source": [
    "import numpy as np\n",
    "import pandas as pd\n",
    "import os.path"
   ]
  },
  {
   "cell_type": "code",
   "execution_count": 2,
   "metadata": {},
   "outputs": [],
   "source": [
    "# Packet data type\n",
    "FIXED_PACKET_SIZE = 1500\n",
    "NUM_OF_PACKETS = 16\n",
    "\n",
    "# v2ray server IP\n",
    "V2RAY_HOST_IP = # Fill in your V2Ray server IP\n",
    "# v2ray server port\n",
    "V2RAY_PORT = # Fill in your V2Ray server port\n",
    "# v2ray traffic tag\n",
    "V2RAY_HOST_TAG = '%s.%s' % (V2RAY_HOST_IP, V2RAY_PORT)\n",
    "\n",
    "# Load constant\n",
    "DATA_ROOT = '/src/data/tcpsorter/mod-tcpsorter'"
   ]
  },
  {
   "cell_type": "code",
   "execution_count": 3,
   "metadata": {},
   "outputs": [
    {
     "name": "stdout",
     "output_type": "stream",
     "text": [
      "(16, 1500)\n",
      "    0     1     2     3     4     5     6     7     8     9     ...  1490  \\\n",
      "0     69     0     2    57     0     0    64     0    64     6  ...     0   \n",
      "1     69     0     5   220     0     0    64     0    56     6  ...   104   \n",
      "2     69     0     5   220     0     1    64     0    56     6  ...   228   \n",
      "3     69     0     1   135     0     2    64     0    56     6  ...     0   \n",
      "4     69     0     0   145     0     0    64     0    64     6  ...     0   \n",
      "5     69     0     0    58     0     0    64     0    56     6  ...     0   \n",
      "6     69     0     0    97     0     0    64     0    56     6  ...     0   \n",
      "7     69     0     2   102     0     0    64     0    64     6  ...     0   \n",
      "8     69     0     2   122     0     0    64     0    56     6  ...     0   \n",
      "9     69     0     5   220     0     0    64     0    56     6  ...   118   \n",
      "10    69     0     2   188     0     1    64     0    56     6  ...     0   \n",
      "11    69     0     2   111     0     0    64     0    64     6  ...     0   \n",
      "12    69     0     2   133     0     0    64     0    56     6  ...     0   \n",
      "13    69     0     5   220     0     0    64     0    56     6  ...   143   \n",
      "14    69     0     5   220     0     1    64     0    56     6  ...    37   \n",
      "15    69     0     5   220     0     2    64     0    56     6  ...   232   \n",
      "\n",
      "    1491  1492  1493  1494  1495  1496  1497  1498  1499  \n",
      "0      0     0     0     0     0     0     0     0     0  \n",
      "1    207    89   211    88    55   169   157   225    89  \n",
      "2    184   119   173    45   110   245    82   221   180  \n",
      "3      0     0     0     0     0     0     0     0     0  \n",
      "4      0     0     0     0     0     0     0     0     0  \n",
      "5      0     0     0     0     0     0     0     0     0  \n",
      "6      0     0     0     0     0     0     0     0     0  \n",
      "7      0     0     0     0     0     0     0     0     0  \n",
      "8      0     0     0     0     0     0     0     0     0  \n",
      "9    151    13     8   252    71   201   173   105    71  \n",
      "10     0     0     0     0     0     0     0     0     0  \n",
      "11     0     0     0     0     0     0     0     0     0  \n",
      "12     0     0     0     0     0     0     0     0     0  \n",
      "13    45    49   183    17   143   192   237    55   180  \n",
      "14   248   245   218   143    46   142   248   198    15  \n",
      "15    93    99   234    53    39    91   184   239    34  \n",
      "\n",
      "[16 rows x 1500 columns]\n"
     ]
    }
   ],
   "source": [
    "MOD_FILE_BASE = '192.168.3.37.65516-45.57.24.141.443.bin'\n",
    "MOD_FILE_PATH = os.path.join(DATA_ROOT, '26DEC2019', MOD_FILE_BASE)\n",
    "\n",
    "packet_dt = np.dtype((np.uint8, FIXED_PACKET_SIZE))\n",
    "df = pd.DataFrame(np.fromfile(MOD_FILE_PATH, dtype=packet_dt, count=NUM_OF_PACKETS))\n",
    "print(df.shape)\n",
    "print(df)"
   ]
  },
  {
   "cell_type": "markdown",
   "metadata": {},
   "source": [
    "## Create Data Generator"
   ]
  },
  {
   "cell_type": "code",
   "execution_count": 4,
   "metadata": {},
   "outputs": [],
   "source": [
    "import numpy as np\n",
    "import math\n",
    "import os.path\n",
    "from pathlib import Path\n",
    "import glob\n",
    "from tensorflow.keras.utils import Sequence\n",
    "\n",
    "FIXED_PACKET_SIZE = 1500\n",
    "NUM_OF_PACKETS_PER_FILE = 16\n",
    "RESCALE_FACTOR = 1./255\n",
    "\n",
    "# v2ray traffic tag\n",
    "TRAINING_DATA_PERCENTAGE = 0.8\n",
    "PACKET_FILE_EXT = '*.bin'\n",
    "\n",
    "\n",
    "def rglob(data_root, file_ext):\n",
    "    files = list()\n",
    "    for filePath in Path(data_root).rglob(file_ext):\n",
    "        files.append(str(filePath))\n",
    "    return files\n",
    "\n",
    "\n",
    "def binary_classification(packet_path, match_string=V2RAY_HOST_TAG):\n",
    "    \"\"\"Binary network traffic classification function\n",
    "\n",
    "    :param packet_path: file path to packet\n",
    "    :param match_string:\n",
    "    :return: 1, if it is v2ray traffice. 0, otherwise.\n",
    "    \"\"\"\n",
    "    if packet_path.find(match_string) != -1:\n",
    "        return 1\n",
    "    else:\n",
    "        return 0\n",
    "\n",
    "\n",
    "def generate_train_validation_packet_path_list(data_root, training_pct=TRAINING_DATA_PERCENTAGE, eqaul_size=True):\n",
    "    file_list = rglob(data_root, PACKET_FILE_EXT)\n",
    "    v2ray_file_list = [file_path for file_path in file_list if binary_classification(file_path) == 1]\n",
    "    non_v2ray_file_list = [file_path for file_path in file_list if binary_classification(file_path) == 0]\n",
    "\n",
    "    if eqaul_size:\n",
    "        cut_off_count = min(len(v2ray_file_list), len(non_v2ray_file_list))\n",
    "        v2ray_file_size = cut_off_count\n",
    "        non_v2ray_file_size = cut_off_count\n",
    "    else:\n",
    "        v2ray_file_size = len(v2ray_file_list)\n",
    "        non_v2ray_file_size = len(non_v2ray_file_list)\n",
    "\n",
    "    v2ray_indexes = np.arange(len(v2ray_file_list))\n",
    "    np.random.shuffle(v2ray_indexes)\n",
    "    non_v2ray_indexes = np.arange(len(non_v2ray_file_list))\n",
    "    np.random.shuffle(non_v2ray_indexes)\n",
    "\n",
    "    training_file_list = [v2ray_file_list[index]\n",
    "                          for index in v2ray_indexes[:math.ceil(v2ray_file_size * training_pct)]] + \\\n",
    "                         [non_v2ray_file_list[index]\n",
    "                          for index in non_v2ray_indexes[:math.ceil(non_v2ray_file_size * training_pct)]]\n",
    "\n",
    "    validation_file_list = [v2ray_file_list[index]\n",
    "                            for index in v2ray_indexes[math.ceil(v2ray_file_size * training_pct): v2ray_file_size]] + \\\n",
    "                           [non_v2ray_file_list[index]\n",
    "                            for index in non_v2ray_indexes[math.ceil(non_v2ray_file_size * training_pct): non_v2ray_file_size]]\n",
    "\n",
    "    print(\"Statistics: \")\n",
    "    print(\"Total V2ray traffic %d, Total non-V2ray traffic %d\" % (len(v2ray_file_list), len(non_v2ray_file_list)))\n",
    "    print(\"Output train traffic %d, Total validation traffic %d\" % (len(training_file_list), len(validation_file_list)))\n",
    "\n",
    "    return training_file_list, validation_file_list\n",
    "\n",
    "\n",
    "class PacketDataGenerator(Sequence):\n",
    "    \"\"\"Generates data for Keras\n",
    "    Sequence based data generator. Suitable for building data generator for training and prediction.\n",
    "    \"\"\"\n",
    "    def __init__(self, data_path_list, classification_func=binary_classification, rescale=RESCALE_FACTOR,\n",
    "                 batch_size=32, dim=(NUM_OF_PACKETS_PER_FILE, FIXED_PACKET_SIZE), shuffle=True, predict=False):\n",
    "        \"\"\"Initialization\n",
    "\n",
    "        :param data_path_list: list of data path\n",
    "        :param classification_func: binary classification function\n",
    "        :param batch_size: batch size at each iteration\n",
    "        :param dim: tuple indicating data dimension\n",
    "        :param shuffle: True to shuffle label indexes after every epoch\n",
    "        \"\"\"\n",
    "        self.data_path_list = data_path_list\n",
    "        self.classification_func = classification_func\n",
    "        self.rescale = rescale\n",
    "        self.batch_size = batch_size\n",
    "        self.dim = dim\n",
    "        self.shuffle = shuffle\n",
    "        self.predict = predict\n",
    "        self.indexes = np.arange(len(self.data_path_list))\n",
    "        self.on_epoch_end()\n",
    "\n",
    "    def __len__(self):\n",
    "        \"\"\"Denotes the number samples of batches per epoch\n",
    "\n",
    "        :return: number of batches per epoch\n",
    "        \"\"\"\n",
    "        return int(np.floor(len(self.data_path_list) / self.batch_size))\n",
    "\n",
    "    def __getitem__(self, index):\n",
    "        \"\"\"Generate one batch of data\n",
    "\n",
    "        :param index: index of the batch\n",
    "        :return: X and y when fitting. X only when predicting\n",
    "        \"\"\"\n",
    "        # Generate indexes of the batch\n",
    "        indexes = self.indexes[index * self.batch_size:(index + 1) * self.batch_size]\n",
    "\n",
    "        # Generate sub packet path list\n",
    "        data_path_sub_list = [self.data_path_list[k] for k in indexes]\n",
    "\n",
    "        # Generate data\n",
    "        x = self.standardize(self._generate_x(data_path_sub_list))\n",
    "        if self.predict:\n",
    "            return x\n",
    "        else:\n",
    "            y = self._generate_y(data_path_sub_list)\n",
    "            return x, y\n",
    "\n",
    "    def standardize(self, x):\n",
    "        if self.rescale:\n",
    "            x *= self.rescale\n",
    "        return x\n",
    "\n",
    "    def on_epoch_end(self):\n",
    "        \"\"\"Updates indexes after each epoch\n",
    "\n",
    "        \"\"\"\n",
    "        if self.shuffle:\n",
    "            np.random.shuffle(self.indexes)\n",
    "\n",
    "    def _generate_x(self, file_path_list):\n",
    "        \"\"\"Generates data containing batch_size data\n",
    "\n",
    "        :param file_path_list: file path list\n",
    "        :return: batch of data\n",
    "        \"\"\"\n",
    "        # Initialization\n",
    "        x = np.empty((self.batch_size, *self.dim))\n",
    "\n",
    "        # Generate data\n",
    "        for i, file_path in enumerate(file_path_list):\n",
    "            # Store sample\n",
    "            x[i, ] = self._load_packet(file_path)\n",
    "\n",
    "        return x\n",
    "\n",
    "    def _generate_y(self, file_path_list):\n",
    "        \"\"\"Generates data containing batch_size\n",
    "\n",
    "        :param file_path_list: file path list\n",
    "        :return: batch if masks\n",
    "        \"\"\"\n",
    "        y = np.empty((self.batch_size, ), dtype=int)\n",
    "\n",
    "        # Generate data\n",
    "        for i, file_path in enumerate(file_path_list):\n",
    "            y[i,] = self.classification_func(file_path)\n",
    "\n",
    "        return y\n",
    "\n",
    "    def _load_packet(self, packet_path):\n",
    "        \"\"\"Load packet\n",
    "\n",
    "        :param packet_path: path to packet\n",
    "        :return: packet in numpy array\n",
    "        \"\"\"\n",
    "        packet_dt = np.dtype((np.uint8, FIXED_PACKET_SIZE))\n",
    "        packet_data = np.fromfile(packet_path, dtype=packet_dt, count=NUM_OF_PACKETS_PER_FILE)\n",
    "        return packet_data.astype(np.float32)\n"
   ]
  },
  {
   "cell_type": "code",
   "execution_count": 5,
   "metadata": {},
   "outputs": [
    {
     "name": "stdout",
     "output_type": "stream",
     "text": [
      "Statistics: \n",
      "Total V2ray traffic 5070, Total non-V2ray traffic 190531\n",
      "Output train traffic 8112, Total validation traffic 2028\n"
     ]
    }
   ],
   "source": [
    "# Generate training data and validation file list\n",
    "train_file_list, val_file_list = generate_train_validation_packet_path_list(data_root=DATA_ROOT, eqaul_size=True)"
   ]
  },
  {
   "cell_type": "code",
   "execution_count": 6,
   "metadata": {},
   "outputs": [],
   "source": [
    "# Create train data generator and validation data generator\n",
    "train_data_generator = PacketDataGenerator(train_file_list)\n",
    "val_data_generator = PacketDataGenerator(val_file_list)"
   ]
  },
  {
   "cell_type": "code",
   "execution_count": 7,
   "metadata": {},
   "outputs": [
    {
     "data": {
      "text/plain": [
       "253"
      ]
     },
     "execution_count": 7,
     "metadata": {},
     "output_type": "execute_result"
    }
   ],
   "source": [
    "len(train_data_generator)"
   ]
  },
  {
   "cell_type": "code",
   "execution_count": 8,
   "metadata": {},
   "outputs": [
    {
     "name": "stdout",
     "output_type": "stream",
     "text": [
      "(32, 16, 1500)\n",
      "[[[ 0.27058824  0.          0.00784314 ...,  0.          0.          0.        ]\n",
      "  [ 0.27058824  0.          0.00392157 ...,  0.          0.          0.        ]\n",
      "  [ 0.27058824  0.          0.         ...,  0.          0.          0.        ]\n",
      "  ..., \n",
      "  [ 0.27058824  0.          0.         ...,  0.          0.          0.        ]\n",
      "  [ 0.27058824  0.          0.         ...,  0.          0.          0.        ]\n",
      "  [ 0.27058824  0.          0.00392157 ...,  0.          0.          0.        ]]\n",
      "\n",
      " [[ 0.27058824  0.          0.00392157 ...,  0.          0.          0.        ]\n",
      "  [ 0.27058824  0.          0.01960784 ...,  0.31764706  0.19607843\n",
      "    0.9254902 ]\n",
      "  [ 0.27058824  0.          0.00784314 ...,  0.          0.          0.        ]\n",
      "  ..., \n",
      "  [ 0.27058824  0.          0.01960784 ...,  0.70196078  0.89803922\n",
      "    0.03921569]\n",
      "  [ 0.27058824  0.          0.01960784 ...,  0.85490196  0.80784314\n",
      "    0.31764706]\n",
      "  [ 0.27058824  0.          0.01960784 ...,  0.89803922  0.8745098\n",
      "    0.42745098]]\n",
      "\n",
      " [[ 0.27058824  0.          0.00784314 ...,  0.          0.          0.        ]\n",
      "  [ 0.27058824  0.          0.01960784 ...,  0.          0.          0.        ]\n",
      "  [ 0.27058824  0.          0.01960784 ...,  0.          0.          0.        ]\n",
      "  ..., \n",
      "  [ 0.27058824  0.          0.00392157 ...,  0.          0.          0.        ]\n",
      "  [ 0.27058824  0.          0.01960784 ...,  0.          0.          0.        ]\n",
      "  [ 0.27058824  0.          0.00392157 ...,  0.          0.          0.        ]]\n",
      "\n",
      " ..., \n",
      " [[ 0.27058824  0.          0.00784314 ...,  0.          0.          0.        ]\n",
      "  [ 0.27058824  0.          0.01960784 ...,  0.19215686  0.36862745\n",
      "    0.44313725]\n",
      "  [ 0.27058824  0.          0.01960784 ...,  0.86666667  0.70588235\n",
      "    0.45490196]\n",
      "  ..., \n",
      "  [ 0.27058824  0.          0.00784314 ...,  0.          0.          0.        ]\n",
      "  [ 0.27058824  0.          0.00784314 ...,  0.          0.          0.        ]\n",
      "  [ 0.27058824  0.          0.         ...,  0.          0.          0.        ]]\n",
      "\n",
      " [[ 0.27058824  0.          0.00784314 ...,  0.          0.          0.        ]\n",
      "  [ 0.27058824  0.          0.00392157 ...,  0.          0.          0.        ]\n",
      "  [ 0.27058824  0.          0.         ...,  0.          0.          0.        ]\n",
      "  ..., \n",
      "  [ 0.27058824  0.          0.         ...,  0.          0.          0.        ]\n",
      "  [ 0.27058824  0.          0.         ...,  0.          0.          0.        ]\n",
      "  [ 0.27058824  0.          0.         ...,  0.          0.          0.        ]]\n",
      "\n",
      " [[ 0.27058824  0.          0.00784314 ...,  0.          0.          0.        ]\n",
      "  [ 0.27058824  0.          0.         ...,  0.          0.          0.        ]\n",
      "  [ 0.27058824  0.          0.         ...,  0.          0.          0.        ]\n",
      "  ..., \n",
      "  [ 0.27058824  0.          0.         ...,  0.          0.          0.        ]\n",
      "  [ 0.27058824  0.          0.         ...,  0.          0.          0.        ]\n",
      "  [ 0.27058824  0.          0.         ...,  0.          0.          0.        ]]]\n",
      "(32,)\n",
      "[1 1 0 1 1 1 0 1 1 1 1 0 1 1 0 1 0 0 1 0 1 0 0 0 1 1 0 1 0 0 1 0]\n"
     ]
    }
   ],
   "source": [
    "x, y = train_data_generator.__getitem__(0)\n",
    "# 32 samples in each batch, 16 packets in each connection, 1500 byte in each packet\n",
    "print(np.shape(x))\n",
    "print(x)\n",
    "print(np.shape(y))\n",
    "print(y)"
   ]
  },
  {
   "cell_type": "markdown",
   "metadata": {},
   "source": [
    "# Step 4: Classification\n",
    "\n",
    "## Model Construction"
   ]
  },
  {
   "cell_type": "code",
   "execution_count": 9,
   "metadata": {},
   "outputs": [
    {
     "name": "stderr",
     "output_type": "stream",
     "text": [
      "Using TensorFlow backend.\n"
     ]
    },
    {
     "name": "stdout",
     "output_type": "stream",
     "text": [
      "Model: \"sequential_1\"\n",
      "_________________________________________________________________\n",
      "Layer (type)                 Output Shape              Param #   \n",
      "=================================================================\n",
      "conv1d_1 (Conv1D)            (None, 12, 200)           1500200   \n",
      "_________________________________________________________________\n",
      "conv1d_2 (Conv1D)            (None, 9, 100)            80100     \n",
      "_________________________________________________________________\n",
      "max_pooling1d_1 (MaxPooling1 (None, 4, 100)            0         \n",
      "_________________________________________________________________\n",
      "dropout_1 (Dropout)          (None, 4, 100)            0         \n",
      "_________________________________________________________________\n",
      "flatten_1 (Flatten)          (None, 400)               0         \n",
      "_________________________________________________________________\n",
      "dense_1 (Dense)              (None, 256)               102656    \n",
      "_________________________________________________________________\n",
      "dropout_2 (Dropout)          (None, 256)               0         \n",
      "_________________________________________________________________\n",
      "dense_2 (Dense)              (None, 128)               32896     \n",
      "_________________________________________________________________\n",
      "dropout_3 (Dropout)          (None, 128)               0         \n",
      "_________________________________________________________________\n",
      "dense_3 (Dense)              (None, 32)                4128      \n",
      "_________________________________________________________________\n",
      "dropout_4 (Dropout)          (None, 32)                0         \n",
      "_________________________________________________________________\n",
      "dense_4 (Dense)              (None, 1)                 33        \n",
      "=================================================================\n",
      "Total params: 1,720,013\n",
      "Trainable params: 1,720,013\n",
      "Non-trainable params: 0\n",
      "_________________________________________________________________\n"
     ]
    }
   ],
   "source": [
    "from keras import layers\n",
    "from keras import models\n",
    "\n",
    "model = models.Sequential()\n",
    "\n",
    "# Convnet\n",
    "model.add(layers.Conv1D(200, 5, activation='relu',\n",
    "                        input_shape=(16, 1500), data_format=\"channels_last\"))\n",
    "model.add(layers.Conv1D(100, 4, activation='relu'))\n",
    "model.add(layers.MaxPooling1D(2))\n",
    "model.add(layers.Dropout(0.25))\n",
    "\n",
    "# Fully connected network\n",
    "model.add(layers.Flatten())\n",
    "model.add(layers.Dense(256))\n",
    "model.add(layers.Dropout(0.05))\n",
    "model.add(layers.Dense(128))\n",
    "model.add(layers.Dropout(0.05))\n",
    "model.add(layers.Dense(32))\n",
    "model.add(layers.Dropout(0.05))\n",
    "model.add(layers.Dense(1, activation='sigmoid'))\n",
    "\n",
    "model.summary()"
   ]
  },
  {
   "cell_type": "code",
   "execution_count": 10,
   "metadata": {},
   "outputs": [],
   "source": [
    "from keras import optimizers\n",
    "\n",
    "model.compile(loss='binary_crossentropy',\n",
    "              optimizer=optimizers.RMSprop(lr=1e-4),\n",
    "              metrics=['accuracy'])"
   ]
  },
  {
   "cell_type": "code",
   "execution_count": 11,
   "metadata": {},
   "outputs": [
    {
     "name": "stdout",
     "output_type": "stream",
     "text": [
      "Epoch 1/10\n",
      "253/253 [==============================] - 111s 440ms/step - loss: 0.1287 - acc: 0.9502 - val_loss: 0.0139 - val_acc: 0.9970\n",
      "Epoch 2/10\n",
      "253/253 [==============================] - 2s 9ms/step - loss: 0.0244 - acc: 0.9909 - val_loss: 0.0055 - val_acc: 0.9975\n",
      "Epoch 3/10\n",
      "253/253 [==============================] - 2s 9ms/step - loss: 0.0142 - acc: 0.9951 - val_loss: 0.0051 - val_acc: 0.9980\n",
      "Epoch 4/10\n",
      "253/253 [==============================] - 2s 8ms/step - loss: 0.0087 - acc: 0.9973 - val_loss: 0.0068 - val_acc: 0.9975\n",
      "Epoch 5/10\n",
      "253/253 [==============================] - 2s 9ms/step - loss: 0.0070 - acc: 0.9979 - val_loss: 0.0134 - val_acc: 0.9960\n",
      "Epoch 6/10\n",
      "253/253 [==============================] - 2s 9ms/step - loss: 0.0065 - acc: 0.9984 - val_loss: 0.0020 - val_acc: 0.9990\n",
      "Epoch 7/10\n",
      "253/253 [==============================] - 2s 8ms/step - loss: 0.0025 - acc: 0.9989 - val_loss: 0.0068 - val_acc: 0.9970\n",
      "Epoch 8/10\n",
      "253/253 [==============================] - 2s 8ms/step - loss: 0.0034 - acc: 0.9991 - val_loss: 0.0012 - val_acc: 0.9990\n",
      "Epoch 9/10\n",
      "253/253 [==============================] - 2s 9ms/step - loss: 0.0069 - acc: 0.9988 - val_loss: 0.0038 - val_acc: 0.9985\n",
      "Epoch 10/10\n",
      "253/253 [==============================] - 2s 8ms/step - loss: 0.0021 - acc: 0.9993 - val_loss: 0.0052 - val_acc: 0.9980\n"
     ]
    }
   ],
   "source": [
    "from keras.callbacks import EarlyStopping\n",
    "# Create train data generator and validation data generator\n",
    "train_generator = PacketDataGenerator(train_file_list)\n",
    "validation_generator = PacketDataGenerator(val_file_list)\n",
    "\n",
    "#es = EarlyStopping(monitor='val_loss', mode='auto', verbose=1)\n",
    "\n",
    "history = model.fit_generator(\n",
    "      train_generator,\n",
    "      epochs=10,\n",
    "      #callbacks=[es],\n",
    "      validation_data=validation_generator,\n",
    "      workers=3,\n",
    "      use_multiprocessing=True)"
   ]
  },
  {
   "cell_type": "code",
   "execution_count": 12,
   "metadata": {},
   "outputs": [
    {
     "data": {
      "image/png": "[encoded data removed]",
      "text/plain": [
       "<Figure size 432x288 with 1 Axes>"
      ]
     },
     "metadata": {
      "needs_background": "light"
     },
     "output_type": "display_data"
    },
    {
     "data": {
      "image/png": "[encoded data removed]",
      "text/plain": [
       "<Figure size 432x288 with 1 Axes>"
      ]
     },
     "metadata": {
      "needs_background": "light"
     },
     "output_type": "display_data"
    }
   ],
   "source": [
    "%matplotlib inline\n",
    "import matplotlib.pyplot as plt\n",
    "\n",
    "acc = history.history['acc']\n",
    "val_acc = history.history['val_acc']\n",
    "loss = history.history['loss']\n",
    "val_loss = history.history['val_loss']\n",
    "\n",
    "epochs = range(len(acc))\n",
    "\n",
    "plt.plot(epochs, acc, 'bo', label='Training acc')\n",
    "plt.plot(epochs, val_acc, 'b', label='Validation acc')\n",
    "plt.title('Training and validation accuracy')\n",
    "plt.legend()\n",
    "\n",
    "plt.figure()\n",
    "\n",
    "plt.plot(epochs, loss, 'bo', label='Training loss')\n",
    "plt.plot(epochs, val_loss, 'b', label='Validation loss')\n",
    "plt.title('Training and validation loss')\n",
    "plt.legend()\n",
    "\n",
    "plt.show()"
   ]
  },
  {
   "cell_type": "markdown",
   "metadata": {},
   "source": [
    "### Ricky comments:\n",
    "\n",
    "- We have equal size of V2Ray traffic and non-V2Ray traffic. Both have **5070** samples.\n",
    "- We set aside 20% of data for validation. Both training data and validation data have the same 1:1 ratio of V2Ray traffic and non-V2Ray traffic.\n",
    "- The training accuracy rate can reach 99% after 1st epoch. So is validation accuracy is above 99%."
   ]
  },
  {
   "cell_type": "markdown",
   "metadata": {},
   "source": [
    "## Early Stopping\n",
    "\n",
    "- To keep the best model, we apply early stopping techinque."
   ]
  },
  {
   "cell_type": "code",
   "execution_count": 13,
   "metadata": {},
   "outputs": [
    {
     "name": "stdout",
     "output_type": "stream",
     "text": [
      "Epoch 1/1\n",
      "253/253 [==============================] - 2s 9ms/step - loss: 0.0016 - acc: 0.9994 - val_loss: 0.0028 - val_acc: 0.9985\n"
     ]
    }
   ],
   "source": [
    "from keras.callbacks import EarlyStopping\n",
    "# Create train data generator and validation data generator\n",
    "train_generator = PacketDataGenerator(train_file_list)\n",
    "validation_generator = PacketDataGenerator(val_file_list)\n",
    "\n",
    "es = EarlyStopping(monitor='val_loss', mode='auto', verbose=1)\n",
    "\n",
    "history = model.fit_generator(\n",
    "      train_generator,\n",
    "      callbacks=[es],\n",
    "      validation_data=validation_generator,\n",
    "      workers=3,\n",
    "      use_multiprocessing=True)"
   ]
  },
  {
   "cell_type": "code",
   "execution_count": 14,
   "metadata": {},
   "outputs": [],
   "source": [
    "# Save this model for later use\n",
    "from keras.models import load_model\n",
    "model.save('/src/data/tcpsorter/model/v2ray_classifier_equal_sample.h5')"
   ]
  },
  {
   "cell_type": "markdown",
   "metadata": {},
   "source": [
    "## Evaluate Model"
   ]
  },
  {
   "cell_type": "code",
   "execution_count": 15,
   "metadata": {},
   "outputs": [
    {
     "name": "stdout",
     "output_type": "stream",
     "text": [
      "63/63 [==============================] - 0s 7ms/step\n",
      "shape of predict: (2016,), shape of real: (2016,)\n"
     ]
    }
   ],
   "source": [
    "def evaulate(file_list):\n",
    "    # predict y\n",
    "    predict_generator = PacketDataGenerator(file_list, predict=True, shuffle=False)\n",
    "    y_predict = model.predict_generator(predict_generator, workers=3, use_multiprocessing=True, verbose=1)\n",
    "    y_predict = y_predict.ravel()\n",
    "    # get real y\n",
    "    data_generator = PacketDataGenerator(file_list, predict=False, shuffle=False)\n",
    "    y_stat = None\n",
    "    x = 1\n",
    "    for _, y in data_generator:\n",
    "        if x > len(data_generator):\n",
    "            break\n",
    "        if y_stat is None:\n",
    "            y_stat = y\n",
    "        else:\n",
    "            y_stat = np.concatenate((y_stat, y), axis=0)\n",
    "        x+=1\n",
    "    return y_predict, y_stat\n",
    "\n",
    "from sklearn.metrics import roc_curve\n",
    "\n",
    "y_predict, y_stat = evaulate(val_file_list)\n",
    "print('shape of predict: %s, shape of real: %s' % (y_predict.shape, y_stat.shape))\n",
    "fpr_keras, tpr_keras, thresholds_keras = roc_curve(y_stat, y_predict)\n",
    "\n",
    "from sklearn.metrics import auc\n",
    "auc_keras = auc(fpr_keras, tpr_keras)"
   ]
  },
  {
   "cell_type": "code",
   "execution_count": 16,
   "metadata": {},
   "outputs": [
    {
     "data": {
      "image/png": "[encoded data removed]",
      "text/plain": [
       "<Figure size 432x288 with 1 Axes>"
      ]
     },
     "metadata": {
      "needs_background": "light"
     },
     "output_type": "display_data"
    },
    {
     "data": {
      "image/png": "[encoded data removed]",
      "text/plain": [
       "<Figure size 432x288 with 1 Axes>"
      ]
     },
     "metadata": {
      "needs_background": "light"
     },
     "output_type": "display_data"
    }
   ],
   "source": [
    "plt.figure(1)\n",
    "plt.plot([0, 1], [0, 1], 'k--')\n",
    "plt.plot(fpr_keras, tpr_keras, label='Keras (area = {:.3f})'.format(auc_keras))\n",
    "\n",
    "plt.xlabel('False positive rate')\n",
    "plt.ylabel('True positive rate')\n",
    "plt.title('ROC curve')\n",
    "plt.legend(loc='best')\n",
    "plt.show()\n",
    "\n",
    "# Zoom in view of the upper left corner.\n",
    "plt.figure(2)\n",
    "plt.xlim(0, 0.2)\n",
    "plt.ylim(0.8, 1)\n",
    "plt.plot([0, 1], [0, 1], 'k--')\n",
    "plt.plot(fpr_keras, tpr_keras, label='Keras (area = {:.3f})'.format(auc_keras))\n",
    "\n",
    "\n",
    "plt.xlabel('False positive rate')\n",
    "plt.ylabel('True positive rate')\n",
    "plt.title('ROC curve (zoomed in at top left)')\n",
    "plt.legend(loc='best')\n",
    "plt.show()"
   ]
  },
  {
   "cell_type": "markdown",
   "metadata": {},
   "source": [
    "### Ricky comments:\n",
    "\n",
    "- Perfect ROC curve."
   ]
  },
  {
   "cell_type": "markdown",
   "metadata": {},
   "source": [
    "# Step 5: More Evaluation with unseen V2Ray traffic\n",
    "\n",
    "- Change vmess protocol's UUID in both server side and client side.\n",
    "- Use previously trained model to classfiy"
   ]
  },
  {
   "cell_type": "markdown",
   "metadata": {},
   "source": [
    "## Load Model"
   ]
  },
  {
   "cell_type": "code",
   "execution_count": 17,
   "metadata": {},
   "outputs": [],
   "source": [
    "from keras.models import load_model\n",
    "\n",
    "model = load_model('/src/data/tcpsorter/model/v2ray_classifier_equal_sample.h5')"
   ]
  },
  {
   "cell_type": "markdown",
   "metadata": {},
   "source": [
    "## unseen vmess Data"
   ]
  },
  {
   "cell_type": "code",
   "execution_count": 18,
   "metadata": {},
   "outputs": [],
   "source": [
    "# Load constant\n",
    "DATA_ROOT = '/src/data/tcpsorter/mod-tcpsorter.uuid.fb46221f-8f70-4f06-8b23-e2b61253c054'"
   ]
  },
  {
   "cell_type": "code",
   "execution_count": 19,
   "metadata": {},
   "outputs": [
    {
     "name": "stdout",
     "output_type": "stream",
     "text": [
      "Statistics: \n",
      "Total V2ray traffic 976, Total non-V2ray traffic 1522\n",
      "Output train traffic 2498, Total validation traffic 0\n"
     ]
    }
   ],
   "source": [
    "eval_file_list, _ = generate_train_validation_packet_path_list(data_root=DATA_ROOT, \n",
    "                                                               training_pct=1, eqaul_size=False)"
   ]
  },
  {
   "cell_type": "code",
   "execution_count": 20,
   "metadata": {},
   "outputs": [
    {
     "name": "stdout",
     "output_type": "stream",
     "text": [
      "78/78 [==============================] - 7s 84ms/step\n"
     ]
    }
   ],
   "source": [
    "# Create evaluation generator\n",
    "eval_generator = PacketDataGenerator(eval_file_list, shuffle=False)\n",
    "\n",
    "eval_result = model.evaluate_generator(eval_generator,workers=3, use_multiprocessing=True, verbose=1)"
   ]
  },
  {
   "cell_type": "code",
   "execution_count": 21,
   "metadata": {},
   "outputs": [
    {
     "name": "stdout",
     "output_type": "stream",
     "text": [
      "[0.013206126600994668, 0.99879807692307687]\n"
     ]
    }
   ],
   "source": [
    "print(eval_result)"
   ]
  },
  {
   "cell_type": "code",
   "execution_count": 22,
   "metadata": {},
   "outputs": [
    {
     "name": "stdout",
     "output_type": "stream",
     "text": [
      "78/78 [==============================] - 1s 7ms/step\n",
      "shape of predict: (2496,), shape of real: (2496,)\n"
     ]
    },
    {
     "data": {
      "image/png": "[encoded data removed]",
      "text/plain": [
       "<Figure size 432x288 with 1 Axes>"
      ]
     },
     "metadata": {
      "needs_background": "light"
     },
     "output_type": "display_data"
    },
    {
     "data": {
      "image/png": "[encoded data removed]",
      "text/plain": [
       "<Figure size 432x288 with 1 Axes>"
      ]
     },
     "metadata": {
      "needs_background": "light"
     },
     "output_type": "display_data"
    }
   ],
   "source": [
    "from sklearn.metrics import roc_curve\n",
    "\n",
    "y_predict, y_stat = evaulate(eval_file_list)\n",
    "print('shape of predict: %s, shape of real: %s' % (y_predict.shape, y_stat.shape))\n",
    "fpr_keras, tpr_keras, thresholds_keras = roc_curve(y_stat, y_predict)\n",
    "\n",
    "from sklearn.metrics import auc\n",
    "auc_keras = auc(fpr_keras, tpr_keras)\n",
    "\n",
    "%matplotlib inline\n",
    "import matplotlib.pyplot as plt\n",
    "\n",
    "plt.figure(1)\n",
    "plt.plot([0, 1], [0, 1], 'k--')\n",
    "plt.plot(fpr_keras, tpr_keras, label='Keras (area = {:.3f})'.format(auc_keras))\n",
    "\n",
    "plt.xlabel('False positive rate')\n",
    "plt.ylabel('True positive rate')\n",
    "plt.title('ROC curve')\n",
    "plt.legend(loc='best')\n",
    "plt.show()\n",
    "\n",
    "# Zoom in view of the upper left corner.\n",
    "plt.figure(2)\n",
    "plt.xlim(0, 0.2)\n",
    "plt.ylim(0.8, 1)\n",
    "plt.plot([0, 1], [0, 1], 'k--')\n",
    "plt.plot(fpr_keras, tpr_keras, label='Keras (area = {:.3f})'.format(auc_keras))\n",
    "\n",
    "\n",
    "plt.xlabel('False positive rate')\n",
    "plt.ylabel('True positive rate')\n",
    "plt.title('ROC curve (zoomed in at top left)')\n",
    "plt.legend(loc='best')\n",
    "plt.show()"
   ]
  },
  {
   "cell_type": "markdown",
   "metadata": {},
   "source": [
    "### Ricky comments:\n",
    "\n",
    "- Even UUID of vmess protocol has been changed, the previously trained model can still reach **0.99879** accuracy!\n",
    "- Another perfect ROC curve."
   ]
  },
  {
   "cell_type": "markdown",
   "metadata": {},
   "source": [
    "# Conclusion\n",
    "\n",
    "- Yes, [The patent claim](https://files.catbox.moe/vmzj04.pdf) is valid. \n",
    "- People who use V2Ray are fucked. Big borther knows you are using V2Ray without knowing V2Ray server IP or port. They can block it at any time at will\n",
    "- A new question arises: how can we bypass it?"
   ]
  },
  {
   "cell_type": "code",
   "execution_count": null,
   "metadata": {},
   "outputs": [],
   "source": []
  }
 ],
 "metadata": {
  "kernelspec": {
   "display_name": "Python 3",
   "language": "python",
   "name": "python3"
  },
  "language_info": {
   "codemirror_mode": {
    "name": "ipython",
    "version": 3
   },
   "file_extension": ".py",
   "mimetype": "text/x-python",
   "name": "python",
   "nbconvert_exporter": "python",
   "pygments_lexer": "ipython3",
   "version": "3.6.8"
  }
 },
 "nbformat": 4,
 "nbformat_minor": 2
}
